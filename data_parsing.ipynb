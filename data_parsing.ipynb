{
 "cells": [
  {
   "cell_type": "markdown",
   "source": [
    "## Parsing NBA Data"
   ],
   "metadata": {
    "collapsed": false
   },
   "id": "b0d770920660f6a"
  },
  {
   "cell_type": "code",
   "execution_count": null,
   "outputs": [],
   "source": [
    "# import libraries\n",
    "import os\n",
    "import pandas as pd\n",
    "from bs4 import BeautifulSoup"
   ],
   "metadata": {
    "collapsed": false
   },
   "id": "8fa433e9f8535a5"
  },
  {
   "cell_type": "markdown",
   "source": [
    "#### Get the Box Score HTML Files"
   ],
   "metadata": {
    "collapsed": false
   },
   "id": "c0d55427913a36ec"
  },
  {
   "cell_type": "code",
   "execution_count": null,
   "outputs": [],
   "source": [
    "SCORES_DIR = \"data/scores\"\n",
    "\n",
    "box_scores = os.listdir(SCORES_DIR)\n",
    "box_scores = [os.path.join(SCORES_DIR, f) for f in box_scores if f.endswith(\".html\")]"
   ],
   "metadata": {
    "collapsed": false
   },
   "id": "901a4ad3180c04c5"
  },
  {
   "cell_type": "markdown",
   "source": [
    "#### Write Function for Parsing the HTML"
   ],
   "metadata": {
    "collapsed": false
   },
   "id": "421052d899268e40"
  },
  {
   "cell_type": "code",
   "execution_count": null,
   "outputs": [],
   "source": [
    "# parsing through individual box score and getting data\n",
    "def parse_html(temp_box_score):\n",
    "    with open(temp_box_score) as f:\n",
    "        html = f.read()\n",
    "        \n",
    "    # create instance of BeautifulSoup\n",
    "    soup = BeautifulSoup(html)\n",
    "    \n",
    "    # will remove any headers and reserve lines from the html\n",
    "    [s.decompose() for s in soup.select(\"tr.over_header\")]\n",
    "    [s.decompose() for s in soup.select(\"tr.thead\")]\n",
    "    \n",
    "    return soup"
   ],
   "metadata": {
    "collapsed": false
   },
   "id": "bb92913e54fefd50"
  },
  {
   "cell_type": "markdown",
   "source": [
    "#### Write Function for Reading Line Scores"
   ],
   "metadata": {
    "collapsed": false
   },
   "id": "a99bb8eb0f8f6056"
  },
  {
   "cell_type": "code",
   "execution_count": null,
   "outputs": [],
   "source": [
    "# reading the line scores and storing them using pandas\n",
    "def read_line_score(soup):\n",
    "    line_score = pd.read_html(str(soup), attrs={\"id\": \"line_score\"})[0]\n",
    "    \n",
    "    # convert the columns names to a list\n",
    "    cols = list(line_score.columns)\n",
    "    cols[0] = \"team\"\n",
    "    cols[-1] = \"total\"\n",
    "    line_score.columns = cols\n",
    "    \n",
    "    # only take the team and total, remove the quarterly scores\n",
    "    line_score = line_score[[\"team\", \"total\"]]\n",
    "    return line_score"
   ],
   "metadata": {
    "collapsed": false
   },
   "id": "b43f94c1db09ed9a"
  },
  {
   "cell_type": "markdown",
   "source": [
    "#### Write Function for Reading Stats"
   ],
   "metadata": {
    "collapsed": false
   },
   "id": "2e3fb1efd6c13da"
  },
  {
   "cell_type": "code",
   "execution_count": null,
   "outputs": [],
   "source": [
    "# extracting stats with pandas\n",
    "def read_stats(soup, temp_team, stat):\n",
    "    df = pd.read_html(str(soup), attrs={\"id\": f\"box-{temp_team}-game-{stat}\"}, index_col=0)[0]\n",
    "    df = df.apply(pd.to_numeric, errors=\"coerce\")\n",
    "    return df"
   ],
   "metadata": {
    "collapsed": false
   },
   "id": "d100ba1d6e74c161"
  },
  {
   "cell_type": "markdown",
   "source": [
    "#### Write Function for Getting Season and Game Information"
   ],
   "metadata": {
    "collapsed": false
   },
   "id": "41bfc62bb996ff7"
  },
  {
   "cell_type": "code",
   "execution_count": null,
   "outputs": [],
   "source": [
    "# get background information\n",
    "def get_season_info(soup):\n",
    "    nav = soup.select(\"#bottom_nav_container\")[0]\n",
    "    hrefs = [a[\"href\"] for a in nav.find_all('a')]\n",
    "    season = os.path.basename(hrefs[1]).split(\"_\")[0]\n",
    "    return season"
   ],
   "metadata": {
    "collapsed": false
   },
   "id": "2aaf49f520e389f7"
  },
  {
   "cell_type": "markdown",
   "source": [
    "#### Attain Stats from All Games"
   ],
   "metadata": {
    "collapsed": false
   },
   "id": "fa646b1aad80cfdf"
  },
  {
   "cell_type": "code",
   "execution_count": null,
   "outputs": [],
   "source": [
    "base_cols = None\n",
    "games = []\n",
    "\n",
    "for box_score in box_scores:\n",
    "    my_soup = parse_html(box_score)\n",
    "    \n",
    "    my_line_score = read_line_score(my_soup)\n",
    "    teams = list(my_line_score[\"team\"])\n",
    "\n",
    "    game_summaries = []\n",
    "    for team in teams:\n",
    "        basic_stats = read_stats(my_soup, team, \"basic\")\n",
    "        advanced_stats = read_stats(my_soup, team, \"advanced\")\n",
    "\n",
    "        # getting the advanced and basic stats into a single column correct total index values\n",
    "        total_values = pd.concat([basic_stats.iloc[-1,:], advanced_stats.iloc[-1,:]])\n",
    "        total_values.index = total_values.index.str.lower()\n",
    "        \n",
    "        # getting maximum values for each player and correct max index values\n",
    "        max_values = pd.concat([basic_stats.iloc[:-1,:].max(), advanced_stats.iloc[:-1,:].max()])\n",
    "        max_values.index = max_values.index.str.lower() + \"_max\"\n",
    "\n",
    "        # combine into one dataframe\n",
    "        team_summary = pd.concat([total_values, max_values])\n",
    "\n",
    "        # get rid of ambiguous columns that may show up for certain games \n",
    "        if base_cols is None:\n",
    "            base_cols = list(team_summary.index.drop_duplicates(keep=\"first\"))\n",
    "            base_cols = [b for b in base_cols if \"bpm\" not in b]\n",
    "\n",
    "        # reassign\n",
    "        team_summary = team_summary[base_cols]\n",
    "        game_summaries.append(team_summary)\n",
    "\n",
    "    # create summary for both teams\n",
    "    summary = pd.concat(game_summaries, axis=1).T\n",
    "\n",
    "    # call this the game that has the summary and the line score\n",
    "    game_review = pd.concat([summary, my_line_score], axis=1)\n",
    "\n",
    "    # creating opposition stats\n",
    "    game_review[\"home\"] = [0, 1]\n",
    "    game_review_opp = game_review.iloc[::-1].reset_index()\n",
    "    game_review_opp.columns += \"_opp\"\n",
    "\n",
    "    # concatenate for an entire game\n",
    "    entire_game = pd.concat([game_review, game_review_opp], axis=1)\n",
    "\n",
    "    # correct the season and date info\n",
    "    entire_game[\"season\"] = get_season_info(my_soup)\n",
    "    entire_game[\"date\"] = os.path.basename(box_score)[:8]\n",
    "    entire_game[\"date\"] = pd.to_datetime(entire_game[\"date\"], format=\"%Y%m%d\")\n",
    "\n",
    "    # figure out the winner of the game\n",
    "    entire_game[\"won\"] = entire_game[\"total\"] > entire_game[\"total_opp\"]\n",
    "\n",
    "    # append to entire games list\n",
    "    games.append(entire_game)"
   ],
   "metadata": {
    "collapsed": false
   },
   "id": "726f7d6f48a67647"
  },
  {
   "cell_type": "markdown",
   "source": [
    "#### Turn All the Data into a Dataframe"
   ],
   "metadata": {
    "collapsed": false
   },
   "id": "e6d77524119bd60b"
  },
  {
   "cell_type": "code",
   "execution_count": null,
   "outputs": [],
   "source": [
    "# turn to dataframe\n",
    "games_df = pd.concat(games, ignore_index=True)"
   ],
   "metadata": {
    "collapsed": false
   },
   "id": "92769d43e9788ea3"
  },
  {
   "cell_type": "markdown",
   "source": [
    "#### Export as a CSV File"
   ],
   "metadata": {
    "collapsed": false
   },
   "id": "98cde59e12d75c5b"
  },
  {
   "cell_type": "code",
   "execution_count": null,
   "outputs": [],
   "source": [
    "# turn to csv\n",
    "games_df.to_csv(\"nba_games.csv\")"
   ],
   "metadata": {
    "collapsed": false
   },
   "id": "c6af6c9664fbd95f"
  }
 ],
 "metadata": {
  "kernelspec": {
   "display_name": "Python 3",
   "language": "python",
   "name": "python3"
  },
  "language_info": {
   "codemirror_mode": {
    "name": "ipython",
    "version": 2
   },
   "file_extension": ".py",
   "mimetype": "text/x-python",
   "name": "python",
   "nbconvert_exporter": "python",
   "pygments_lexer": "ipython2",
   "version": "2.7.6"
  }
 },
 "nbformat": 4,
 "nbformat_minor": 5
}
